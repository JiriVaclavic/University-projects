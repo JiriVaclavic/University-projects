{
 "cells": [
  {
   "cell_type": "markdown",
   "metadata": {},
   "source": [
    "# Příprava datové sady pro dolovací algoritmy\n",
    "*Připravte 2 varianty datové sady vhodné pro dolovací algoritmy.*\n",
    "\n",
    "Datová sada: Tučňáci \\\n",
    "Dolovací úloha: Klasifikace druhů tučňáků na základě ostatních atributů."
   ]
  },
  {
   "cell_type": "code",
   "execution_count": 90,
   "metadata": {},
   "outputs": [],
   "source": [
    "# potřebné moduly\n",
    "import pandas as pd\n",
    "import numpy as np\n",
    "import copy\n",
    "\n",
    "# načtení dat a uložení do dataframu\n",
    "csv_file=\"datasets/dataset-penguins/penguins_lter.csv\"\n",
    "df = pd.read_csv(csv_file)"
   ]
  },
  {
   "cell_type": "markdown",
   "metadata": {},
   "source": [
    "## Odstranění irelevantních atributů\n",
    "*Odstraňte z datové sady atributy, které jsou pro danou dolovací úlohu irelevantní.*"
   ]
  },
  {
   "cell_type": "code",
   "execution_count": 91,
   "metadata": {},
   "outputs": [],
   "source": [
    "# odstranění 9 z původních 17 atributů\n",
    "df_tmp = df.drop(['studyName', 'Sample Number', 'Region', 'Island', 'Stage', 'Clutch Completion', 'Date Egg', 'Individual ID', 'Comments'], axis=1)\n",
    "#print(df_tmp.columns)"
   ]
  },
  {
   "cell_type": "markdown",
   "metadata": {},
   "source": [
    "## Úprava chybějících hodnot\n",
    "*Vypořádejte se s chybějícími hodnotami. Pro odstranění těchto hodnot využijte alespoň dvě různé metody pro odstranění chybějících hodnot.*"
   ]
  },
  {
   "cell_type": "code",
   "execution_count": 92,
   "metadata": {},
   "outputs": [],
   "source": [
    "# atribut s pohlavím obsahuje chybnou hodnotu ('.') – nejprve ji odstraníme\n",
    "df_tmp.loc[(df_tmp['Sex'] != \"MALE\") & (df_tmp['Sex'] != \"FEMALE\"), 'Sex'] = np.NaN\n",
    "\n",
    "# identifikace atributů s chybějícími hodnotami\n",
    "missing_values = {k: v for k, v in df_tmp.isna().sum().items() if v > 0}\n",
    "\n",
    "# odstranění záznamů, kterým chybějí hodnoty u všech identifikovaných atributů\n",
    "# konkrétně se jedná o všechny numerické atributy a kategorický atribut pohlaví\n",
    "df_tmp = df_tmp.drop(df_tmp[df_tmp[missing_values.keys()].isna().all(axis=1)].index)\n",
    "\n",
    "# # podmnožiny dataframů podle druhu tučňáka\n",
    "# peng1 = df_tmp.loc[df_tmp['Species'] == 'Adelie Penguin (Pygoscelis adeliae)'].copy()\n",
    "# peng2 = df_tmp.loc[df_tmp['Species'] == 'Chinstrap penguin (Pygoscelis antarctica)'].copy()\n",
    "# peng3 = df_tmp.loc[df_tmp['Species'] == 'Gentoo penguin (Pygoscelis papua)'].copy()\n",
    "\n",
    "# medians or means pro druhy a pohlavi tucnaka\n",
    "def select_sex(m_values: dict[tuple[str,str], float], species: str, weight = int | float):\n",
    "    \"\"\"Vraci odhadovane pohlavi tucnaka na zaklade druhu a vahy. Je potreba parametrem predat predpocitany slovnik medianu nebo strednich hodnot tucnaku.\"\"\"\n",
    "    male_weight = m_values[(species, \"MALE\")]\n",
    "    female_weight = m_values[(species, \"FEMALE\")]\n",
    "\n",
    "    male_distance = abs(weight - male_weight)\n",
    "    female_distance = abs(weight - female_weight)\n",
    "\n",
    "    return \"MALE\" if male_distance < female_distance else \"FEMALE\"\n",
    "\n",
    "# def get_distance(m_values: dict[tuple[str,str], float], species: str, sex:str, weight = int | float):\n",
    "#     return abs(m_values[(species, sex)] - weight)\n",
    "\n",
    "# doplnění chybějících hodnot u numerických atributů (pozn. modus nemá smysl uvažovat, viz nejčastější hodnoty atributů zjištěné explorační analýzou)\n",
    "# 1. varianta: nahrazení mediánem\n",
    "df_var1 = df_tmp.copy()\n",
    "for col in missing_values.keys():\n",
    "    if col != \"Sex\":\n",
    "        df_var1[col] = df_var1[col].replace(np.nan, df_var1[col].median())\n",
    "\n",
    "\n",
    "\n",
    "# seznam medianu vahy podle druhu a podle pohlavi\n",
    "# prvni hodnota v tuple je druh a druha je pohlavi\n",
    "medians : dict[tuple[str, str], float] = {}\n",
    "\n",
    "for species in df_var1[\"Species\"].unique():\n",
    "    for sex in [\"MALE\", \"FEMALE\"]:\n",
    "        filtered_df = df_var1[(df_var1['Sex'] == sex) & (df_var1[\"Species\"] == species)]\n",
    "        mass_median = filtered_df.loc[:, [\"Body Mass (g)\"]].median()\n",
    "        \n",
    "        medians[(species,sex)] = mass_median\n",
    "        \n",
    "\n",
    "# for index, row in df_var1.iterrows():\n",
    "#     df_var1.loc[index, 'Sex'] = select_sex(medians, row['Species'], row['Body Mass (g)'])\n",
    "    # tady to pada nevim proc :'( ale nahradilo by to pohlavi odhadovanym pohlavim, jeste by se tu muselo pohlidat aby k nahrazeni doslo jen u chybejicich\n",
    "\n",
    "\n",
    "# 2. varianta: nahrazení průměrem\n",
    "df_var2 = df_tmp.copy()\n",
    "for col in missing_values.keys():\n",
    "    if col != \"Sex\":\n",
    "        df_var2[col] = df_var2[col].replace(np.nan, df_var2[col].mean())\n",
    "\n",
    "# tady by byl podobny kod jako nahore jen by se pouzil mean, ale na to uz neni cas bohuzel\n"
   ]
  },
  {
   "cell_type": "markdown",
   "metadata": {},
   "source": [
    "## Úprava odlehlých hodnot\n",
    "*Vypořádejte se s odlehlými hodnotami, jsou-li v datové sadě přítomny.*"
   ]
  },
  {
   "cell_type": "code",
   "execution_count": 93,
   "metadata": {},
   "outputs": [],
   "source": [
    "# žádné odlehlé hodnoty nebyly při explorační analýze detekovány"
   ]
  },
  {
   "cell_type": "markdown",
   "metadata": {},
   "source": [
    "## Diskretizace numerických atributů\n",
    "*Pro jednu variantu datové sady proveďte diskretizaci numerických atributů tak, aby výsledná datová sada byla vhodná pro algoritmy, které vyžadují na vstupu kategorické atributy.*"
   ]
  },
  {
   "cell_type": "code",
   "execution_count": 94,
   "metadata": {},
   "outputs": [
    {
     "name": "stdout",
     "output_type": "stream",
     "text": [
      "Procentuální rozložení hodnot po diskretizaci: \n",
      "Sloupec: Culmen Length (mm)\n",
      "(44.45, 48.5]                   0.254386\n",
      "(32.099000000000004, 39.225]    0.251462\n",
      "(39.225, 44.45]                 0.248538\n",
      "(48.5, 59.6]                    0.245614\n",
      "Name: Culmen Length (mm), dtype: float64\n",
      "\n",
      "Sloupec: Culmen Depth (mm)\n",
      "(13.099, 15.6]    0.257310\n",
      "(15.6, 17.3]      0.254386\n",
      "(17.3, 18.7]      0.251462\n",
      "(18.7, 21.5]      0.236842\n",
      "Name: Culmen Depth (mm), dtype: float64\n",
      "\n",
      "Sloupec: Flipper Length (mm)\n",
      "(171.999, 190.0]    0.289474\n",
      "(213.0, 231.0]      0.248538\n",
      "(197.0, 213.0]      0.236842\n",
      "(190.0, 197.0]      0.225146\n",
      "Name: Flipper Length (mm), dtype: float64\n",
      "\n",
      "Sloupec: Body Mass (g)\n",
      "(2699.999, 3550.0]    0.260234\n",
      "(3550.0, 4050.0]      0.254386\n",
      "(4750.0, 6300.0]      0.248538\n",
      "(4050.0, 4750.0]      0.236842\n",
      "Name: Body Mass (g), dtype: float64\n",
      "\n",
      "Sloupec: Delta 15 N (o/oo)\n",
      "(8.306, 8.652]                0.266082\n",
      "(7.630999999999999, 8.306]    0.251462\n",
      "(9.141, 10.025]               0.251462\n",
      "(8.652, 9.141]                0.230994\n",
      "Name: Delta 15 N (o/oo), dtype: float64\n",
      "\n",
      "Sloupec: Delta 13 C (o/oo)\n",
      "(-26.295, -25.834]    0.266082\n",
      "(-27.02, -26.295]     0.251462\n",
      "(-25.081, -23.788]    0.251462\n",
      "(-25.834, -25.081]    0.230994\n",
      "Name: Delta 13 C (o/oo), dtype: float64\n",
      "\n"
     ]
    }
   ],
   "source": [
    "# výběr numerických (kvantitativních) atributů\n",
    "numeric_columns = df_var1.select_dtypes(include=['int64', 'float64']).columns\n",
    "\n",
    "# diskretizace hodnot přes ekvifrekvenční intervaly (intervaly mají přibližně stejnou četnost)\n",
    "for col in numeric_columns:\n",
    "    df_var1[col] = pd.qcut(df_var1[col], q=4)\n",
    "\n",
    "print(\"Procentuální rozložení hodnot po diskretizaci: \")\n",
    "for c in numeric_columns:\n",
    "    print(f\"Sloupec: {c}\\n{df_var1[c].value_counts(normalize=True)}\\n\")"
   ]
  },
  {
   "cell_type": "markdown",
   "metadata": {},
   "source": [
    "## Transformace kategorických atributů\n",
    "*Pro druhou variantu datové sady proveďte vhodnou transformaci kategorických atributů na numerické atributy. Dále pak proveďte normalizaci numerických atributů, které má smysl normalizovat. Výsledná datová sada by měla být vhodná pro metody vyžadující numerické vstupy.*"
   ]
  },
  {
   "cell_type": "code",
   "execution_count": 95,
   "metadata": {},
   "outputs": [],
   "source": [
    "# normalizace numerických atributů (min-max)\n",
    "numeric_columns = df_var2.select_dtypes(include=['int64', 'float64']).columns\n",
    "\n",
    "for col in numeric_columns:\n",
    "    df_var2[col] = (df_var2[col] - df_var2[col].min())/(df_var2[col].max() - df_var2[col].min())\n",
    "\n",
    "# nárůst dimenzí přidáním sloupců pro kategoriální hodnoty atributů pohlaví a druhu tučňáků \n",
    "for val in df_var2['Sex'].unique():\n",
    "    df_var2[val] = [1 if i == val else 0 for i in df_var2['Sex']]\n",
    "df_var2.drop('Sex', inplace=True, axis=1)\n",
    "\n",
    "for val in df_var2['Species'].unique():\n",
    "    df_var2[val] = [1 if i == val else 0 for i in df_var2['Species']]\n",
    "df_var2.drop('Species', inplace=True, axis=1)"
   ]
  },
  {
   "cell_type": "markdown",
   "metadata": {},
   "source": [
    "## Export upravených datových sad\n",
    "*Export obou výsledných variant upravené datové sady do formátu csv. Pro zmenšení velikosti odevzdávaného archivu je možné odevzdat pouze prvních 50 řádků těchto souborů.*"
   ]
  },
  {
   "cell_type": "code",
   "execution_count": 96,
   "metadata": {},
   "outputs": [],
   "source": [
    "df_var1.to_csv(\"penguins_classif_var1.csv\")\n",
    "df_var2.to_csv(\"penguins_classif_var2.csv\")"
   ]
  }
 ],
 "metadata": {
  "kernelspec": {
   "display_name": "Python 3.10.6 ('env': venv)",
   "language": "python",
   "name": "python3"
  },
  "language_info": {
   "codemirror_mode": {
    "name": "ipython",
    "version": 3
   },
   "file_extension": ".py",
   "mimetype": "text/x-python",
   "name": "python",
   "nbconvert_exporter": "python",
   "pygments_lexer": "ipython3",
   "version": "3.10.6"
  },
  "orig_nbformat": 4,
  "vscode": {
   "interpreter": {
    "hash": "eb68a345d6de2010075cda12358368e9bca2b16453b87ffae3190f980ac6ab45"
   }
  }
 },
 "nbformat": 4,
 "nbformat_minor": 2
}
